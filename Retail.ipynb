{
  "nbformat": 4,
  "nbformat_minor": 0,
  "metadata": {
    "colab": {
      "provenance": []
    },
    "kernelspec": {
      "name": "python3",
      "display_name": "Python 3"
    },
    "language_info": {
      "name": "python"
    }
  },
  "cells": [
    {
      "cell_type": "markdown",
      "source": [
        "**Project Akhir**\n",
        "\n",
        "Mata Kuliah: *Predictive Analytics*\n",
        "\n",
        "Dosen :  Ika Nurlaili Isnainiyah, S.Kom.,\n",
        "M.Sc.\n",
        "\n",
        "Anggota Kelompok:\n",
        "- 2010512107 Vincentius Ludwig\n",
        "- 2010512122 Zahran Irfansyah\n",
        "- 2010512127 Hanifa Widya Damayanti"
      ],
      "metadata": {
        "id": "7nBIAMUZyF6r"
      }
    },
    {
      "cell_type": "markdown",
      "source": [
        "**Data Preparation**"
      ],
      "metadata": {
        "id": "-ibP-A60x_-D"
      }
    },
    {
      "cell_type": "code",
      "execution_count": null,
      "metadata": {
        "colab": {
          "base_uri": "https://localhost:8080/"
        },
        "id": "eN6RTvAFgKZu",
        "outputId": "7a638942-3102-4796-8eed-b5714f4f7326"
      },
      "outputs": [
        {
          "output_type": "stream",
          "name": "stdout",
          "text": [
            "Drive already mounted at /content/drive; to attempt to forcibly remount, call drive.mount(\"/content/drive\", force_remount=True).\n"
          ]
        }
      ],
      "source": [
        "from google.colab import drive\n",
        "drive.mount('/content/drive')"
      ]
    },
    {
      "cell_type": "code",
      "source": [
        "import pandas as pd\n",
        "\n",
        "df = pd.read_excel(\"drive/My Drive/Colab Data/data_retail.xlsx\")\n",
        "df.head()"
      ],
      "metadata": {
        "id": "6Rkqkk8XgSLY",
        "colab": {
          "base_uri": "https://localhost:8080/",
          "height": 206
        },
        "outputId": "d758abab-34c4-4876-9050-39732640525a"
      },
      "execution_count": null,
      "outputs": [
        {
          "output_type": "execute_result",
          "data": {
            "text/plain": [
              "   no  Row_Num  Customer_ID Product  First_Transaction  Last_Transaction  \\\n",
              "0   1        1        29531   Jaket      1466304274396     1538718482608   \n",
              "1   2        2        29531  Sepatu      1406077331494     1545735761270   \n",
              "2   3        3       141526     Tas      1493349147000     1548322802000   \n",
              "3   4        4       141526   Jaket      1493362372547     1547643603911   \n",
              "4   5        5        37545  Sepatu      1429178498531     1542891221530   \n",
              "\n",
              "   Average_Transaction_Amount  Count_Transaction  \n",
              "0                     1467681                 22  \n",
              "1                     1269337                 41  \n",
              "2                      310915                 30  \n",
              "3                      722632                 27  \n",
              "4                     1775036                 25  "
            ],
            "text/html": [
              "\n",
              "  <div id=\"df-15ab5b43-4eb5-4706-873d-11e5464e7857\">\n",
              "    <div class=\"colab-df-container\">\n",
              "      <div>\n",
              "<style scoped>\n",
              "    .dataframe tbody tr th:only-of-type {\n",
              "        vertical-align: middle;\n",
              "    }\n",
              "\n",
              "    .dataframe tbody tr th {\n",
              "        vertical-align: top;\n",
              "    }\n",
              "\n",
              "    .dataframe thead th {\n",
              "        text-align: right;\n",
              "    }\n",
              "</style>\n",
              "<table border=\"1\" class=\"dataframe\">\n",
              "  <thead>\n",
              "    <tr style=\"text-align: right;\">\n",
              "      <th></th>\n",
              "      <th>no</th>\n",
              "      <th>Row_Num</th>\n",
              "      <th>Customer_ID</th>\n",
              "      <th>Product</th>\n",
              "      <th>First_Transaction</th>\n",
              "      <th>Last_Transaction</th>\n",
              "      <th>Average_Transaction_Amount</th>\n",
              "      <th>Count_Transaction</th>\n",
              "    </tr>\n",
              "  </thead>\n",
              "  <tbody>\n",
              "    <tr>\n",
              "      <th>0</th>\n",
              "      <td>1</td>\n",
              "      <td>1</td>\n",
              "      <td>29531</td>\n",
              "      <td>Jaket</td>\n",
              "      <td>1466304274396</td>\n",
              "      <td>1538718482608</td>\n",
              "      <td>1467681</td>\n",
              "      <td>22</td>\n",
              "    </tr>\n",
              "    <tr>\n",
              "      <th>1</th>\n",
              "      <td>2</td>\n",
              "      <td>2</td>\n",
              "      <td>29531</td>\n",
              "      <td>Sepatu</td>\n",
              "      <td>1406077331494</td>\n",
              "      <td>1545735761270</td>\n",
              "      <td>1269337</td>\n",
              "      <td>41</td>\n",
              "    </tr>\n",
              "    <tr>\n",
              "      <th>2</th>\n",
              "      <td>3</td>\n",
              "      <td>3</td>\n",
              "      <td>141526</td>\n",
              "      <td>Tas</td>\n",
              "      <td>1493349147000</td>\n",
              "      <td>1548322802000</td>\n",
              "      <td>310915</td>\n",
              "      <td>30</td>\n",
              "    </tr>\n",
              "    <tr>\n",
              "      <th>3</th>\n",
              "      <td>4</td>\n",
              "      <td>4</td>\n",
              "      <td>141526</td>\n",
              "      <td>Jaket</td>\n",
              "      <td>1493362372547</td>\n",
              "      <td>1547643603911</td>\n",
              "      <td>722632</td>\n",
              "      <td>27</td>\n",
              "    </tr>\n",
              "    <tr>\n",
              "      <th>4</th>\n",
              "      <td>5</td>\n",
              "      <td>5</td>\n",
              "      <td>37545</td>\n",
              "      <td>Sepatu</td>\n",
              "      <td>1429178498531</td>\n",
              "      <td>1542891221530</td>\n",
              "      <td>1775036</td>\n",
              "      <td>25</td>\n",
              "    </tr>\n",
              "  </tbody>\n",
              "</table>\n",
              "</div>\n",
              "      <button class=\"colab-df-convert\" onclick=\"convertToInteractive('df-15ab5b43-4eb5-4706-873d-11e5464e7857')\"\n",
              "              title=\"Convert this dataframe to an interactive table.\"\n",
              "              style=\"display:none;\">\n",
              "        \n",
              "  <svg xmlns=\"http://www.w3.org/2000/svg\" height=\"24px\"viewBox=\"0 0 24 24\"\n",
              "       width=\"24px\">\n",
              "    <path d=\"M0 0h24v24H0V0z\" fill=\"none\"/>\n",
              "    <path d=\"M18.56 5.44l.94 2.06.94-2.06 2.06-.94-2.06-.94-.94-2.06-.94 2.06-2.06.94zm-11 1L8.5 8.5l.94-2.06 2.06-.94-2.06-.94L8.5 2.5l-.94 2.06-2.06.94zm10 10l.94 2.06.94-2.06 2.06-.94-2.06-.94-.94-2.06-.94 2.06-2.06.94z\"/><path d=\"M17.41 7.96l-1.37-1.37c-.4-.4-.92-.59-1.43-.59-.52 0-1.04.2-1.43.59L10.3 9.45l-7.72 7.72c-.78.78-.78 2.05 0 2.83L4 21.41c.39.39.9.59 1.41.59.51 0 1.02-.2 1.41-.59l7.78-7.78 2.81-2.81c.8-.78.8-2.07 0-2.86zM5.41 20L4 18.59l7.72-7.72 1.47 1.35L5.41 20z\"/>\n",
              "  </svg>\n",
              "      </button>\n",
              "      \n",
              "  <style>\n",
              "    .colab-df-container {\n",
              "      display:flex;\n",
              "      flex-wrap:wrap;\n",
              "      gap: 12px;\n",
              "    }\n",
              "\n",
              "    .colab-df-convert {\n",
              "      background-color: #E8F0FE;\n",
              "      border: none;\n",
              "      border-radius: 50%;\n",
              "      cursor: pointer;\n",
              "      display: none;\n",
              "      fill: #1967D2;\n",
              "      height: 32px;\n",
              "      padding: 0 0 0 0;\n",
              "      width: 32px;\n",
              "    }\n",
              "\n",
              "    .colab-df-convert:hover {\n",
              "      background-color: #E2EBFA;\n",
              "      box-shadow: 0px 1px 2px rgba(60, 64, 67, 0.3), 0px 1px 3px 1px rgba(60, 64, 67, 0.15);\n",
              "      fill: #174EA6;\n",
              "    }\n",
              "\n",
              "    [theme=dark] .colab-df-convert {\n",
              "      background-color: #3B4455;\n",
              "      fill: #D2E3FC;\n",
              "    }\n",
              "\n",
              "    [theme=dark] .colab-df-convert:hover {\n",
              "      background-color: #434B5C;\n",
              "      box-shadow: 0px 1px 3px 1px rgba(0, 0, 0, 0.15);\n",
              "      filter: drop-shadow(0px 1px 2px rgba(0, 0, 0, 0.3));\n",
              "      fill: #FFFFFF;\n",
              "    }\n",
              "  </style>\n",
              "\n",
              "      <script>\n",
              "        const buttonEl =\n",
              "          document.querySelector('#df-15ab5b43-4eb5-4706-873d-11e5464e7857 button.colab-df-convert');\n",
              "        buttonEl.style.display =\n",
              "          google.colab.kernel.accessAllowed ? 'block' : 'none';\n",
              "\n",
              "        async function convertToInteractive(key) {\n",
              "          const element = document.querySelector('#df-15ab5b43-4eb5-4706-873d-11e5464e7857');\n",
              "          const dataTable =\n",
              "            await google.colab.kernel.invokeFunction('convertToInteractive',\n",
              "                                                     [key], {});\n",
              "          if (!dataTable) return;\n",
              "\n",
              "          const docLinkHtml = 'Like what you see? Visit the ' +\n",
              "            '<a target=\"_blank\" href=https://colab.research.google.com/notebooks/data_table.ipynb>data table notebook</a>'\n",
              "            + ' to learn more about interactive tables.';\n",
              "          element.innerHTML = '';\n",
              "          dataTable['output_type'] = 'display_data';\n",
              "          await google.colab.output.renderOutput(dataTable, element);\n",
              "          const docLink = document.createElement('div');\n",
              "          docLink.innerHTML = docLinkHtml;\n",
              "          element.appendChild(docLink);\n",
              "        }\n",
              "      </script>\n",
              "    </div>\n",
              "  </div>\n",
              "  "
            ]
          },
          "metadata": {},
          "execution_count": 24
        }
      ]
    },
    {
      "cell_type": "code",
      "source": [
        "df.info()"
      ],
      "metadata": {
        "id": "tyzbTRrOgamo",
        "colab": {
          "base_uri": "https://localhost:8080/"
        },
        "outputId": "363da13f-3a7d-4d13-d1bb-cb8b27ee8417"
      },
      "execution_count": null,
      "outputs": [
        {
          "output_type": "stream",
          "name": "stdout",
          "text": [
            "<class 'pandas.core.frame.DataFrame'>\n",
            "RangeIndex: 100000 entries, 0 to 99999\n",
            "Data columns (total 8 columns):\n",
            " #   Column                      Non-Null Count   Dtype \n",
            "---  ------                      --------------   ----- \n",
            " 0   no                          100000 non-null  int64 \n",
            " 1   Row_Num                     100000 non-null  int64 \n",
            " 2   Customer_ID                 100000 non-null  int64 \n",
            " 3   Product                     100000 non-null  object\n",
            " 4   First_Transaction           100000 non-null  int64 \n",
            " 5   Last_Transaction            100000 non-null  int64 \n",
            " 6   Average_Transaction_Amount  100000 non-null  int64 \n",
            " 7   Count_Transaction           100000 non-null  int64 \n",
            "dtypes: int64(7), object(1)\n",
            "memory usage: 6.1+ MB\n"
          ]
        }
      ]
    },
    {
      "cell_type": "code",
      "source": [
        "df = df.drop(['no', 'Row_Num', 'Customer_ID'] ,axis=1)\n",
        "df.info()"
      ],
      "metadata": {
        "id": "k0f2Wi02gjBN",
        "colab": {
          "base_uri": "https://localhost:8080/"
        },
        "outputId": "1576cfc1-b755-4686-fee2-7379fb06073d"
      },
      "execution_count": null,
      "outputs": [
        {
          "output_type": "stream",
          "name": "stdout",
          "text": [
            "<class 'pandas.core.frame.DataFrame'>\n",
            "RangeIndex: 100000 entries, 0 to 99999\n",
            "Data columns (total 5 columns):\n",
            " #   Column                      Non-Null Count   Dtype \n",
            "---  ------                      --------------   ----- \n",
            " 0   Product                     100000 non-null  object\n",
            " 1   First_Transaction           100000 non-null  int64 \n",
            " 2   Last_Transaction            100000 non-null  int64 \n",
            " 3   Average_Transaction_Amount  100000 non-null  int64 \n",
            " 4   Count_Transaction           100000 non-null  int64 \n",
            "dtypes: int64(4), object(1)\n",
            "memory usage: 3.8+ MB\n"
          ]
        }
      ]
    },
    {
      "cell_type": "code",
      "source": [
        "df['First_Transaction'] = pd.to_datetime(df['First_Transaction'],unit='ms')\n",
        "df['Last_Transaction'] = pd.to_datetime(df['Last_Transaction'],unit='ms')\n",
        "df.head()"
      ],
      "metadata": {
        "id": "b2dXeLZTkvZM",
        "colab": {
          "base_uri": "https://localhost:8080/",
          "height": 206
        },
        "outputId": "c7c90719-1540-482d-ae9a-ea4eba00cd24"
      },
      "execution_count": null,
      "outputs": [
        {
          "output_type": "execute_result",
          "data": {
            "text/plain": [
              "  Product       First_Transaction        Last_Transaction  \\\n",
              "0   Jaket 2016-06-19 02:44:34.396 2018-10-05 05:48:02.608   \n",
              "1  Sepatu 2014-07-23 01:02:11.494 2018-12-25 11:02:41.270   \n",
              "2     Tas 2017-04-28 03:12:27.000 2019-01-24 09:40:02.000   \n",
              "3   Jaket 2017-04-28 06:52:52.547 2019-01-16 13:00:03.911   \n",
              "4  Sepatu 2015-04-16 10:01:38.531 2018-11-22 12:53:41.530   \n",
              "\n",
              "   Average_Transaction_Amount  Count_Transaction  \n",
              "0                     1467681                 22  \n",
              "1                     1269337                 41  \n",
              "2                      310915                 30  \n",
              "3                      722632                 27  \n",
              "4                     1775036                 25  "
            ],
            "text/html": [
              "\n",
              "  <div id=\"df-7116ecdc-8c06-4bea-9fbd-0deed8884c58\">\n",
              "    <div class=\"colab-df-container\">\n",
              "      <div>\n",
              "<style scoped>\n",
              "    .dataframe tbody tr th:only-of-type {\n",
              "        vertical-align: middle;\n",
              "    }\n",
              "\n",
              "    .dataframe tbody tr th {\n",
              "        vertical-align: top;\n",
              "    }\n",
              "\n",
              "    .dataframe thead th {\n",
              "        text-align: right;\n",
              "    }\n",
              "</style>\n",
              "<table border=\"1\" class=\"dataframe\">\n",
              "  <thead>\n",
              "    <tr style=\"text-align: right;\">\n",
              "      <th></th>\n",
              "      <th>Product</th>\n",
              "      <th>First_Transaction</th>\n",
              "      <th>Last_Transaction</th>\n",
              "      <th>Average_Transaction_Amount</th>\n",
              "      <th>Count_Transaction</th>\n",
              "    </tr>\n",
              "  </thead>\n",
              "  <tbody>\n",
              "    <tr>\n",
              "      <th>0</th>\n",
              "      <td>Jaket</td>\n",
              "      <td>2016-06-19 02:44:34.396</td>\n",
              "      <td>2018-10-05 05:48:02.608</td>\n",
              "      <td>1467681</td>\n",
              "      <td>22</td>\n",
              "    </tr>\n",
              "    <tr>\n",
              "      <th>1</th>\n",
              "      <td>Sepatu</td>\n",
              "      <td>2014-07-23 01:02:11.494</td>\n",
              "      <td>2018-12-25 11:02:41.270</td>\n",
              "      <td>1269337</td>\n",
              "      <td>41</td>\n",
              "    </tr>\n",
              "    <tr>\n",
              "      <th>2</th>\n",
              "      <td>Tas</td>\n",
              "      <td>2017-04-28 03:12:27.000</td>\n",
              "      <td>2019-01-24 09:40:02.000</td>\n",
              "      <td>310915</td>\n",
              "      <td>30</td>\n",
              "    </tr>\n",
              "    <tr>\n",
              "      <th>3</th>\n",
              "      <td>Jaket</td>\n",
              "      <td>2017-04-28 06:52:52.547</td>\n",
              "      <td>2019-01-16 13:00:03.911</td>\n",
              "      <td>722632</td>\n",
              "      <td>27</td>\n",
              "    </tr>\n",
              "    <tr>\n",
              "      <th>4</th>\n",
              "      <td>Sepatu</td>\n",
              "      <td>2015-04-16 10:01:38.531</td>\n",
              "      <td>2018-11-22 12:53:41.530</td>\n",
              "      <td>1775036</td>\n",
              "      <td>25</td>\n",
              "    </tr>\n",
              "  </tbody>\n",
              "</table>\n",
              "</div>\n",
              "      <button class=\"colab-df-convert\" onclick=\"convertToInteractive('df-7116ecdc-8c06-4bea-9fbd-0deed8884c58')\"\n",
              "              title=\"Convert this dataframe to an interactive table.\"\n",
              "              style=\"display:none;\">\n",
              "        \n",
              "  <svg xmlns=\"http://www.w3.org/2000/svg\" height=\"24px\"viewBox=\"0 0 24 24\"\n",
              "       width=\"24px\">\n",
              "    <path d=\"M0 0h24v24H0V0z\" fill=\"none\"/>\n",
              "    <path d=\"M18.56 5.44l.94 2.06.94-2.06 2.06-.94-2.06-.94-.94-2.06-.94 2.06-2.06.94zm-11 1L8.5 8.5l.94-2.06 2.06-.94-2.06-.94L8.5 2.5l-.94 2.06-2.06.94zm10 10l.94 2.06.94-2.06 2.06-.94-2.06-.94-.94-2.06-.94 2.06-2.06.94z\"/><path d=\"M17.41 7.96l-1.37-1.37c-.4-.4-.92-.59-1.43-.59-.52 0-1.04.2-1.43.59L10.3 9.45l-7.72 7.72c-.78.78-.78 2.05 0 2.83L4 21.41c.39.39.9.59 1.41.59.51 0 1.02-.2 1.41-.59l7.78-7.78 2.81-2.81c.8-.78.8-2.07 0-2.86zM5.41 20L4 18.59l7.72-7.72 1.47 1.35L5.41 20z\"/>\n",
              "  </svg>\n",
              "      </button>\n",
              "      \n",
              "  <style>\n",
              "    .colab-df-container {\n",
              "      display:flex;\n",
              "      flex-wrap:wrap;\n",
              "      gap: 12px;\n",
              "    }\n",
              "\n",
              "    .colab-df-convert {\n",
              "      background-color: #E8F0FE;\n",
              "      border: none;\n",
              "      border-radius: 50%;\n",
              "      cursor: pointer;\n",
              "      display: none;\n",
              "      fill: #1967D2;\n",
              "      height: 32px;\n",
              "      padding: 0 0 0 0;\n",
              "      width: 32px;\n",
              "    }\n",
              "\n",
              "    .colab-df-convert:hover {\n",
              "      background-color: #E2EBFA;\n",
              "      box-shadow: 0px 1px 2px rgba(60, 64, 67, 0.3), 0px 1px 3px 1px rgba(60, 64, 67, 0.15);\n",
              "      fill: #174EA6;\n",
              "    }\n",
              "\n",
              "    [theme=dark] .colab-df-convert {\n",
              "      background-color: #3B4455;\n",
              "      fill: #D2E3FC;\n",
              "    }\n",
              "\n",
              "    [theme=dark] .colab-df-convert:hover {\n",
              "      background-color: #434B5C;\n",
              "      box-shadow: 0px 1px 3px 1px rgba(0, 0, 0, 0.15);\n",
              "      filter: drop-shadow(0px 1px 2px rgba(0, 0, 0, 0.3));\n",
              "      fill: #FFFFFF;\n",
              "    }\n",
              "  </style>\n",
              "\n",
              "      <script>\n",
              "        const buttonEl =\n",
              "          document.querySelector('#df-7116ecdc-8c06-4bea-9fbd-0deed8884c58 button.colab-df-convert');\n",
              "        buttonEl.style.display =\n",
              "          google.colab.kernel.accessAllowed ? 'block' : 'none';\n",
              "\n",
              "        async function convertToInteractive(key) {\n",
              "          const element = document.querySelector('#df-7116ecdc-8c06-4bea-9fbd-0deed8884c58');\n",
              "          const dataTable =\n",
              "            await google.colab.kernel.invokeFunction('convertToInteractive',\n",
              "                                                     [key], {});\n",
              "          if (!dataTable) return;\n",
              "\n",
              "          const docLinkHtml = 'Like what you see? Visit the ' +\n",
              "            '<a target=\"_blank\" href=https://colab.research.google.com/notebooks/data_table.ipynb>data table notebook</a>'\n",
              "            + ' to learn more about interactive tables.';\n",
              "          element.innerHTML = '';\n",
              "          dataTable['output_type'] = 'display_data';\n",
              "          await google.colab.output.renderOutput(dataTable, element);\n",
              "          const docLink = document.createElement('div');\n",
              "          docLink.innerHTML = docLinkHtml;\n",
              "          element.appendChild(docLink);\n",
              "        }\n",
              "      </script>\n",
              "    </div>\n",
              "  </div>\n",
              "  "
            ]
          },
          "metadata": {},
          "execution_count": 27
        }
      ]
    },
    {
      "cell_type": "code",
      "source": [
        "df.sort_values(by='Last_Transaction')"
      ],
      "metadata": {
        "id": "o35nTS8PlX8B",
        "colab": {
          "base_uri": "https://localhost:8080/",
          "height": 424
        },
        "outputId": "b11e3b20-e7b3-45b5-e5fb-906ab9dbd75e"
      },
      "execution_count": null,
      "outputs": [
        {
          "output_type": "execute_result",
          "data": {
            "text/plain": [
              "      Product       First_Transaction        Last_Transaction  \\\n",
              "29588  Sepatu 2013-03-08 07:53:46.297 2013-03-08 07:53:46.297   \n",
              "46452  Sepatu 2013-03-11 04:48:32.304 2013-03-11 04:48:32.304   \n",
              "68535  Sepatu 2013-03-14 05:20:14.506 2013-03-14 05:20:14.506   \n",
              "56435  Sepatu 2013-03-27 09:10:58.878 2013-03-27 09:10:58.878   \n",
              "22461  Sepatu 2013-04-16 09:23:37.329 2013-04-16 09:23:37.329   \n",
              "...       ...                     ...                     ...   \n",
              "16531  Sepatu 2016-04-14 15:36:32.029 2019-02-01 23:43:04.189   \n",
              "2006   Sepatu 2015-06-14 12:43:28.524 2019-02-01 23:46:22.525   \n",
              "1055      Tas 2017-07-25 03:06:28.000 2019-02-01 23:53:21.000   \n",
              "18198   Jaket 2015-05-11 06:55:37.831 2019-02-01 23:57:53.571   \n",
              "9273    Jaket 2016-03-10 13:26:03.012 2019-02-01 23:57:57.286   \n",
              "\n",
              "       Average_Transaction_Amount  Count_Transaction  \n",
              "29588                     8892083                  1  \n",
              "46452                     3142403                  1  \n",
              "68535                     1995735                  1  \n",
              "56435                     2002187                  1  \n",
              "22461                     1630183                  1  \n",
              "...                           ...                ...  \n",
              "16531                     1287681                 71  \n",
              "2006                      1720625                143  \n",
              "1055                       413398                 50  \n",
              "18198                     1059131                 34  \n",
              "9273                      1018913                 65  \n",
              "\n",
              "[100000 rows x 5 columns]"
            ],
            "text/html": [
              "\n",
              "  <div id=\"df-4a14382f-cea6-45d5-a6b2-2d533d0bbc8e\">\n",
              "    <div class=\"colab-df-container\">\n",
              "      <div>\n",
              "<style scoped>\n",
              "    .dataframe tbody tr th:only-of-type {\n",
              "        vertical-align: middle;\n",
              "    }\n",
              "\n",
              "    .dataframe tbody tr th {\n",
              "        vertical-align: top;\n",
              "    }\n",
              "\n",
              "    .dataframe thead th {\n",
              "        text-align: right;\n",
              "    }\n",
              "</style>\n",
              "<table border=\"1\" class=\"dataframe\">\n",
              "  <thead>\n",
              "    <tr style=\"text-align: right;\">\n",
              "      <th></th>\n",
              "      <th>Product</th>\n",
              "      <th>First_Transaction</th>\n",
              "      <th>Last_Transaction</th>\n",
              "      <th>Average_Transaction_Amount</th>\n",
              "      <th>Count_Transaction</th>\n",
              "    </tr>\n",
              "  </thead>\n",
              "  <tbody>\n",
              "    <tr>\n",
              "      <th>29588</th>\n",
              "      <td>Sepatu</td>\n",
              "      <td>2013-03-08 07:53:46.297</td>\n",
              "      <td>2013-03-08 07:53:46.297</td>\n",
              "      <td>8892083</td>\n",
              "      <td>1</td>\n",
              "    </tr>\n",
              "    <tr>\n",
              "      <th>46452</th>\n",
              "      <td>Sepatu</td>\n",
              "      <td>2013-03-11 04:48:32.304</td>\n",
              "      <td>2013-03-11 04:48:32.304</td>\n",
              "      <td>3142403</td>\n",
              "      <td>1</td>\n",
              "    </tr>\n",
              "    <tr>\n",
              "      <th>68535</th>\n",
              "      <td>Sepatu</td>\n",
              "      <td>2013-03-14 05:20:14.506</td>\n",
              "      <td>2013-03-14 05:20:14.506</td>\n",
              "      <td>1995735</td>\n",
              "      <td>1</td>\n",
              "    </tr>\n",
              "    <tr>\n",
              "      <th>56435</th>\n",
              "      <td>Sepatu</td>\n",
              "      <td>2013-03-27 09:10:58.878</td>\n",
              "      <td>2013-03-27 09:10:58.878</td>\n",
              "      <td>2002187</td>\n",
              "      <td>1</td>\n",
              "    </tr>\n",
              "    <tr>\n",
              "      <th>22461</th>\n",
              "      <td>Sepatu</td>\n",
              "      <td>2013-04-16 09:23:37.329</td>\n",
              "      <td>2013-04-16 09:23:37.329</td>\n",
              "      <td>1630183</td>\n",
              "      <td>1</td>\n",
              "    </tr>\n",
              "    <tr>\n",
              "      <th>...</th>\n",
              "      <td>...</td>\n",
              "      <td>...</td>\n",
              "      <td>...</td>\n",
              "      <td>...</td>\n",
              "      <td>...</td>\n",
              "    </tr>\n",
              "    <tr>\n",
              "      <th>16531</th>\n",
              "      <td>Sepatu</td>\n",
              "      <td>2016-04-14 15:36:32.029</td>\n",
              "      <td>2019-02-01 23:43:04.189</td>\n",
              "      <td>1287681</td>\n",
              "      <td>71</td>\n",
              "    </tr>\n",
              "    <tr>\n",
              "      <th>2006</th>\n",
              "      <td>Sepatu</td>\n",
              "      <td>2015-06-14 12:43:28.524</td>\n",
              "      <td>2019-02-01 23:46:22.525</td>\n",
              "      <td>1720625</td>\n",
              "      <td>143</td>\n",
              "    </tr>\n",
              "    <tr>\n",
              "      <th>1055</th>\n",
              "      <td>Tas</td>\n",
              "      <td>2017-07-25 03:06:28.000</td>\n",
              "      <td>2019-02-01 23:53:21.000</td>\n",
              "      <td>413398</td>\n",
              "      <td>50</td>\n",
              "    </tr>\n",
              "    <tr>\n",
              "      <th>18198</th>\n",
              "      <td>Jaket</td>\n",
              "      <td>2015-05-11 06:55:37.831</td>\n",
              "      <td>2019-02-01 23:57:53.571</td>\n",
              "      <td>1059131</td>\n",
              "      <td>34</td>\n",
              "    </tr>\n",
              "    <tr>\n",
              "      <th>9273</th>\n",
              "      <td>Jaket</td>\n",
              "      <td>2016-03-10 13:26:03.012</td>\n",
              "      <td>2019-02-01 23:57:57.286</td>\n",
              "      <td>1018913</td>\n",
              "      <td>65</td>\n",
              "    </tr>\n",
              "  </tbody>\n",
              "</table>\n",
              "<p>100000 rows × 5 columns</p>\n",
              "</div>\n",
              "      <button class=\"colab-df-convert\" onclick=\"convertToInteractive('df-4a14382f-cea6-45d5-a6b2-2d533d0bbc8e')\"\n",
              "              title=\"Convert this dataframe to an interactive table.\"\n",
              "              style=\"display:none;\">\n",
              "        \n",
              "  <svg xmlns=\"http://www.w3.org/2000/svg\" height=\"24px\"viewBox=\"0 0 24 24\"\n",
              "       width=\"24px\">\n",
              "    <path d=\"M0 0h24v24H0V0z\" fill=\"none\"/>\n",
              "    <path d=\"M18.56 5.44l.94 2.06.94-2.06 2.06-.94-2.06-.94-.94-2.06-.94 2.06-2.06.94zm-11 1L8.5 8.5l.94-2.06 2.06-.94-2.06-.94L8.5 2.5l-.94 2.06-2.06.94zm10 10l.94 2.06.94-2.06 2.06-.94-2.06-.94-.94-2.06-.94 2.06-2.06.94z\"/><path d=\"M17.41 7.96l-1.37-1.37c-.4-.4-.92-.59-1.43-.59-.52 0-1.04.2-1.43.59L10.3 9.45l-7.72 7.72c-.78.78-.78 2.05 0 2.83L4 21.41c.39.39.9.59 1.41.59.51 0 1.02-.2 1.41-.59l7.78-7.78 2.81-2.81c.8-.78.8-2.07 0-2.86zM5.41 20L4 18.59l7.72-7.72 1.47 1.35L5.41 20z\"/>\n",
              "  </svg>\n",
              "      </button>\n",
              "      \n",
              "  <style>\n",
              "    .colab-df-container {\n",
              "      display:flex;\n",
              "      flex-wrap:wrap;\n",
              "      gap: 12px;\n",
              "    }\n",
              "\n",
              "    .colab-df-convert {\n",
              "      background-color: #E8F0FE;\n",
              "      border: none;\n",
              "      border-radius: 50%;\n",
              "      cursor: pointer;\n",
              "      display: none;\n",
              "      fill: #1967D2;\n",
              "      height: 32px;\n",
              "      padding: 0 0 0 0;\n",
              "      width: 32px;\n",
              "    }\n",
              "\n",
              "    .colab-df-convert:hover {\n",
              "      background-color: #E2EBFA;\n",
              "      box-shadow: 0px 1px 2px rgba(60, 64, 67, 0.3), 0px 1px 3px 1px rgba(60, 64, 67, 0.15);\n",
              "      fill: #174EA6;\n",
              "    }\n",
              "\n",
              "    [theme=dark] .colab-df-convert {\n",
              "      background-color: #3B4455;\n",
              "      fill: #D2E3FC;\n",
              "    }\n",
              "\n",
              "    [theme=dark] .colab-df-convert:hover {\n",
              "      background-color: #434B5C;\n",
              "      box-shadow: 0px 1px 3px 1px rgba(0, 0, 0, 0.15);\n",
              "      filter: drop-shadow(0px 1px 2px rgba(0, 0, 0, 0.3));\n",
              "      fill: #FFFFFF;\n",
              "    }\n",
              "  </style>\n",
              "\n",
              "      <script>\n",
              "        const buttonEl =\n",
              "          document.querySelector('#df-4a14382f-cea6-45d5-a6b2-2d533d0bbc8e button.colab-df-convert');\n",
              "        buttonEl.style.display =\n",
              "          google.colab.kernel.accessAllowed ? 'block' : 'none';\n",
              "\n",
              "        async function convertToInteractive(key) {\n",
              "          const element = document.querySelector('#df-4a14382f-cea6-45d5-a6b2-2d533d0bbc8e');\n",
              "          const dataTable =\n",
              "            await google.colab.kernel.invokeFunction('convertToInteractive',\n",
              "                                                     [key], {});\n",
              "          if (!dataTable) return;\n",
              "\n",
              "          const docLinkHtml = 'Like what you see? Visit the ' +\n",
              "            '<a target=\"_blank\" href=https://colab.research.google.com/notebooks/data_table.ipynb>data table notebook</a>'\n",
              "            + ' to learn more about interactive tables.';\n",
              "          element.innerHTML = '';\n",
              "          dataTable['output_type'] = 'display_data';\n",
              "          await google.colab.output.renderOutput(dataTable, element);\n",
              "          const docLink = document.createElement('div');\n",
              "          docLink.innerHTML = docLinkHtml;\n",
              "          element.appendChild(docLink);\n",
              "        }\n",
              "      </script>\n",
              "    </div>\n",
              "  </div>\n",
              "  "
            ]
          },
          "metadata": {},
          "execution_count": 28
        }
      ]
    },
    {
      "cell_type": "code",
      "source": [
        "import datetime\n",
        "\n",
        "# create a function\n",
        "def unix_stamp(date):\n",
        "    return  datetime.datetime.strptime(date,\"%Y-%m-%d\")\n",
        "\n",
        "def churn(last_trx):\n",
        "    if last_trx <= unix_stamp('2018-08-02'):\n",
        "        return False\n",
        "    else:\n",
        "        return True\n",
        "# create a new column based on condition\n",
        "df['Churn'] = df['Last_Transaction'].apply(churn)\n",
        "# display the dataframe\n",
        "df.head()"
      ],
      "metadata": {
        "id": "sVYjtKE4l7lA",
        "colab": {
          "base_uri": "https://localhost:8080/",
          "height": 206
        },
        "outputId": "4046e126-e22c-45d6-c742-5f06ff082761"
      },
      "execution_count": null,
      "outputs": [
        {
          "output_type": "execute_result",
          "data": {
            "text/plain": [
              "  Product       First_Transaction        Last_Transaction  \\\n",
              "0   Jaket 2016-06-19 02:44:34.396 2018-10-05 05:48:02.608   \n",
              "1  Sepatu 2014-07-23 01:02:11.494 2018-12-25 11:02:41.270   \n",
              "2     Tas 2017-04-28 03:12:27.000 2019-01-24 09:40:02.000   \n",
              "3   Jaket 2017-04-28 06:52:52.547 2019-01-16 13:00:03.911   \n",
              "4  Sepatu 2015-04-16 10:01:38.531 2018-11-22 12:53:41.530   \n",
              "\n",
              "   Average_Transaction_Amount  Count_Transaction  Churn  \n",
              "0                     1467681                 22   True  \n",
              "1                     1269337                 41   True  \n",
              "2                      310915                 30   True  \n",
              "3                      722632                 27   True  \n",
              "4                     1775036                 25   True  "
            ],
            "text/html": [
              "\n",
              "  <div id=\"df-36250e75-bf5b-418a-9f9d-20d72f9e69e5\">\n",
              "    <div class=\"colab-df-container\">\n",
              "      <div>\n",
              "<style scoped>\n",
              "    .dataframe tbody tr th:only-of-type {\n",
              "        vertical-align: middle;\n",
              "    }\n",
              "\n",
              "    .dataframe tbody tr th {\n",
              "        vertical-align: top;\n",
              "    }\n",
              "\n",
              "    .dataframe thead th {\n",
              "        text-align: right;\n",
              "    }\n",
              "</style>\n",
              "<table border=\"1\" class=\"dataframe\">\n",
              "  <thead>\n",
              "    <tr style=\"text-align: right;\">\n",
              "      <th></th>\n",
              "      <th>Product</th>\n",
              "      <th>First_Transaction</th>\n",
              "      <th>Last_Transaction</th>\n",
              "      <th>Average_Transaction_Amount</th>\n",
              "      <th>Count_Transaction</th>\n",
              "      <th>Churn</th>\n",
              "    </tr>\n",
              "  </thead>\n",
              "  <tbody>\n",
              "    <tr>\n",
              "      <th>0</th>\n",
              "      <td>Jaket</td>\n",
              "      <td>2016-06-19 02:44:34.396</td>\n",
              "      <td>2018-10-05 05:48:02.608</td>\n",
              "      <td>1467681</td>\n",
              "      <td>22</td>\n",
              "      <td>True</td>\n",
              "    </tr>\n",
              "    <tr>\n",
              "      <th>1</th>\n",
              "      <td>Sepatu</td>\n",
              "      <td>2014-07-23 01:02:11.494</td>\n",
              "      <td>2018-12-25 11:02:41.270</td>\n",
              "      <td>1269337</td>\n",
              "      <td>41</td>\n",
              "      <td>True</td>\n",
              "    </tr>\n",
              "    <tr>\n",
              "      <th>2</th>\n",
              "      <td>Tas</td>\n",
              "      <td>2017-04-28 03:12:27.000</td>\n",
              "      <td>2019-01-24 09:40:02.000</td>\n",
              "      <td>310915</td>\n",
              "      <td>30</td>\n",
              "      <td>True</td>\n",
              "    </tr>\n",
              "    <tr>\n",
              "      <th>3</th>\n",
              "      <td>Jaket</td>\n",
              "      <td>2017-04-28 06:52:52.547</td>\n",
              "      <td>2019-01-16 13:00:03.911</td>\n",
              "      <td>722632</td>\n",
              "      <td>27</td>\n",
              "      <td>True</td>\n",
              "    </tr>\n",
              "    <tr>\n",
              "      <th>4</th>\n",
              "      <td>Sepatu</td>\n",
              "      <td>2015-04-16 10:01:38.531</td>\n",
              "      <td>2018-11-22 12:53:41.530</td>\n",
              "      <td>1775036</td>\n",
              "      <td>25</td>\n",
              "      <td>True</td>\n",
              "    </tr>\n",
              "  </tbody>\n",
              "</table>\n",
              "</div>\n",
              "      <button class=\"colab-df-convert\" onclick=\"convertToInteractive('df-36250e75-bf5b-418a-9f9d-20d72f9e69e5')\"\n",
              "              title=\"Convert this dataframe to an interactive table.\"\n",
              "              style=\"display:none;\">\n",
              "        \n",
              "  <svg xmlns=\"http://www.w3.org/2000/svg\" height=\"24px\"viewBox=\"0 0 24 24\"\n",
              "       width=\"24px\">\n",
              "    <path d=\"M0 0h24v24H0V0z\" fill=\"none\"/>\n",
              "    <path d=\"M18.56 5.44l.94 2.06.94-2.06 2.06-.94-2.06-.94-.94-2.06-.94 2.06-2.06.94zm-11 1L8.5 8.5l.94-2.06 2.06-.94-2.06-.94L8.5 2.5l-.94 2.06-2.06.94zm10 10l.94 2.06.94-2.06 2.06-.94-2.06-.94-.94-2.06-.94 2.06-2.06.94z\"/><path d=\"M17.41 7.96l-1.37-1.37c-.4-.4-.92-.59-1.43-.59-.52 0-1.04.2-1.43.59L10.3 9.45l-7.72 7.72c-.78.78-.78 2.05 0 2.83L4 21.41c.39.39.9.59 1.41.59.51 0 1.02-.2 1.41-.59l7.78-7.78 2.81-2.81c.8-.78.8-2.07 0-2.86zM5.41 20L4 18.59l7.72-7.72 1.47 1.35L5.41 20z\"/>\n",
              "  </svg>\n",
              "      </button>\n",
              "      \n",
              "  <style>\n",
              "    .colab-df-container {\n",
              "      display:flex;\n",
              "      flex-wrap:wrap;\n",
              "      gap: 12px;\n",
              "    }\n",
              "\n",
              "    .colab-df-convert {\n",
              "      background-color: #E8F0FE;\n",
              "      border: none;\n",
              "      border-radius: 50%;\n",
              "      cursor: pointer;\n",
              "      display: none;\n",
              "      fill: #1967D2;\n",
              "      height: 32px;\n",
              "      padding: 0 0 0 0;\n",
              "      width: 32px;\n",
              "    }\n",
              "\n",
              "    .colab-df-convert:hover {\n",
              "      background-color: #E2EBFA;\n",
              "      box-shadow: 0px 1px 2px rgba(60, 64, 67, 0.3), 0px 1px 3px 1px rgba(60, 64, 67, 0.15);\n",
              "      fill: #174EA6;\n",
              "    }\n",
              "\n",
              "    [theme=dark] .colab-df-convert {\n",
              "      background-color: #3B4455;\n",
              "      fill: #D2E3FC;\n",
              "    }\n",
              "\n",
              "    [theme=dark] .colab-df-convert:hover {\n",
              "      background-color: #434B5C;\n",
              "      box-shadow: 0px 1px 3px 1px rgba(0, 0, 0, 0.15);\n",
              "      filter: drop-shadow(0px 1px 2px rgba(0, 0, 0, 0.3));\n",
              "      fill: #FFFFFF;\n",
              "    }\n",
              "  </style>\n",
              "\n",
              "      <script>\n",
              "        const buttonEl =\n",
              "          document.querySelector('#df-36250e75-bf5b-418a-9f9d-20d72f9e69e5 button.colab-df-convert');\n",
              "        buttonEl.style.display =\n",
              "          google.colab.kernel.accessAllowed ? 'block' : 'none';\n",
              "\n",
              "        async function convertToInteractive(key) {\n",
              "          const element = document.querySelector('#df-36250e75-bf5b-418a-9f9d-20d72f9e69e5');\n",
              "          const dataTable =\n",
              "            await google.colab.kernel.invokeFunction('convertToInteractive',\n",
              "                                                     [key], {});\n",
              "          if (!dataTable) return;\n",
              "\n",
              "          const docLinkHtml = 'Like what you see? Visit the ' +\n",
              "            '<a target=\"_blank\" href=https://colab.research.google.com/notebooks/data_table.ipynb>data table notebook</a>'\n",
              "            + ' to learn more about interactive tables.';\n",
              "          element.innerHTML = '';\n",
              "          dataTable['output_type'] = 'display_data';\n",
              "          await google.colab.output.renderOutput(dataTable, element);\n",
              "          const docLink = document.createElement('div');\n",
              "          docLink.innerHTML = docLinkHtml;\n",
              "          element.appendChild(docLink);\n",
              "        }\n",
              "      </script>\n",
              "    </div>\n",
              "  </div>\n",
              "  "
            ]
          },
          "metadata": {},
          "execution_count": 29
        }
      ]
    },
    {
      "cell_type": "code",
      "source": [
        "df.sort_values(by='Last_Transaction')"
      ],
      "metadata": {
        "id": "tSkneK68uZJl",
        "colab": {
          "base_uri": "https://localhost:8080/",
          "height": 424
        },
        "outputId": "9e5dc23c-3eba-4d34-9ea9-785a07cd58f9"
      },
      "execution_count": null,
      "outputs": [
        {
          "output_type": "execute_result",
          "data": {
            "text/plain": [
              "      Product       First_Transaction        Last_Transaction  \\\n",
              "29588  Sepatu 2013-03-08 07:53:46.297 2013-03-08 07:53:46.297   \n",
              "46452  Sepatu 2013-03-11 04:48:32.304 2013-03-11 04:48:32.304   \n",
              "68535  Sepatu 2013-03-14 05:20:14.506 2013-03-14 05:20:14.506   \n",
              "56435  Sepatu 2013-03-27 09:10:58.878 2013-03-27 09:10:58.878   \n",
              "22461  Sepatu 2013-04-16 09:23:37.329 2013-04-16 09:23:37.329   \n",
              "...       ...                     ...                     ...   \n",
              "16531  Sepatu 2016-04-14 15:36:32.029 2019-02-01 23:43:04.189   \n",
              "2006   Sepatu 2015-06-14 12:43:28.524 2019-02-01 23:46:22.525   \n",
              "1055      Tas 2017-07-25 03:06:28.000 2019-02-01 23:53:21.000   \n",
              "18198   Jaket 2015-05-11 06:55:37.831 2019-02-01 23:57:53.571   \n",
              "9273    Jaket 2016-03-10 13:26:03.012 2019-02-01 23:57:57.286   \n",
              "\n",
              "       Average_Transaction_Amount  Count_Transaction  Churn  \n",
              "29588                     8892083                  1  False  \n",
              "46452                     3142403                  1  False  \n",
              "68535                     1995735                  1  False  \n",
              "56435                     2002187                  1  False  \n",
              "22461                     1630183                  1  False  \n",
              "...                           ...                ...    ...  \n",
              "16531                     1287681                 71   True  \n",
              "2006                      1720625                143   True  \n",
              "1055                       413398                 50   True  \n",
              "18198                     1059131                 34   True  \n",
              "9273                      1018913                 65   True  \n",
              "\n",
              "[100000 rows x 6 columns]"
            ],
            "text/html": [
              "\n",
              "  <div id=\"df-3f444956-d021-4072-bfd9-892fa551a266\">\n",
              "    <div class=\"colab-df-container\">\n",
              "      <div>\n",
              "<style scoped>\n",
              "    .dataframe tbody tr th:only-of-type {\n",
              "        vertical-align: middle;\n",
              "    }\n",
              "\n",
              "    .dataframe tbody tr th {\n",
              "        vertical-align: top;\n",
              "    }\n",
              "\n",
              "    .dataframe thead th {\n",
              "        text-align: right;\n",
              "    }\n",
              "</style>\n",
              "<table border=\"1\" class=\"dataframe\">\n",
              "  <thead>\n",
              "    <tr style=\"text-align: right;\">\n",
              "      <th></th>\n",
              "      <th>Product</th>\n",
              "      <th>First_Transaction</th>\n",
              "      <th>Last_Transaction</th>\n",
              "      <th>Average_Transaction_Amount</th>\n",
              "      <th>Count_Transaction</th>\n",
              "      <th>Churn</th>\n",
              "    </tr>\n",
              "  </thead>\n",
              "  <tbody>\n",
              "    <tr>\n",
              "      <th>29588</th>\n",
              "      <td>Sepatu</td>\n",
              "      <td>2013-03-08 07:53:46.297</td>\n",
              "      <td>2013-03-08 07:53:46.297</td>\n",
              "      <td>8892083</td>\n",
              "      <td>1</td>\n",
              "      <td>False</td>\n",
              "    </tr>\n",
              "    <tr>\n",
              "      <th>46452</th>\n",
              "      <td>Sepatu</td>\n",
              "      <td>2013-03-11 04:48:32.304</td>\n",
              "      <td>2013-03-11 04:48:32.304</td>\n",
              "      <td>3142403</td>\n",
              "      <td>1</td>\n",
              "      <td>False</td>\n",
              "    </tr>\n",
              "    <tr>\n",
              "      <th>68535</th>\n",
              "      <td>Sepatu</td>\n",
              "      <td>2013-03-14 05:20:14.506</td>\n",
              "      <td>2013-03-14 05:20:14.506</td>\n",
              "      <td>1995735</td>\n",
              "      <td>1</td>\n",
              "      <td>False</td>\n",
              "    </tr>\n",
              "    <tr>\n",
              "      <th>56435</th>\n",
              "      <td>Sepatu</td>\n",
              "      <td>2013-03-27 09:10:58.878</td>\n",
              "      <td>2013-03-27 09:10:58.878</td>\n",
              "      <td>2002187</td>\n",
              "      <td>1</td>\n",
              "      <td>False</td>\n",
              "    </tr>\n",
              "    <tr>\n",
              "      <th>22461</th>\n",
              "      <td>Sepatu</td>\n",
              "      <td>2013-04-16 09:23:37.329</td>\n",
              "      <td>2013-04-16 09:23:37.329</td>\n",
              "      <td>1630183</td>\n",
              "      <td>1</td>\n",
              "      <td>False</td>\n",
              "    </tr>\n",
              "    <tr>\n",
              "      <th>...</th>\n",
              "      <td>...</td>\n",
              "      <td>...</td>\n",
              "      <td>...</td>\n",
              "      <td>...</td>\n",
              "      <td>...</td>\n",
              "      <td>...</td>\n",
              "    </tr>\n",
              "    <tr>\n",
              "      <th>16531</th>\n",
              "      <td>Sepatu</td>\n",
              "      <td>2016-04-14 15:36:32.029</td>\n",
              "      <td>2019-02-01 23:43:04.189</td>\n",
              "      <td>1287681</td>\n",
              "      <td>71</td>\n",
              "      <td>True</td>\n",
              "    </tr>\n",
              "    <tr>\n",
              "      <th>2006</th>\n",
              "      <td>Sepatu</td>\n",
              "      <td>2015-06-14 12:43:28.524</td>\n",
              "      <td>2019-02-01 23:46:22.525</td>\n",
              "      <td>1720625</td>\n",
              "      <td>143</td>\n",
              "      <td>True</td>\n",
              "    </tr>\n",
              "    <tr>\n",
              "      <th>1055</th>\n",
              "      <td>Tas</td>\n",
              "      <td>2017-07-25 03:06:28.000</td>\n",
              "      <td>2019-02-01 23:53:21.000</td>\n",
              "      <td>413398</td>\n",
              "      <td>50</td>\n",
              "      <td>True</td>\n",
              "    </tr>\n",
              "    <tr>\n",
              "      <th>18198</th>\n",
              "      <td>Jaket</td>\n",
              "      <td>2015-05-11 06:55:37.831</td>\n",
              "      <td>2019-02-01 23:57:53.571</td>\n",
              "      <td>1059131</td>\n",
              "      <td>34</td>\n",
              "      <td>True</td>\n",
              "    </tr>\n",
              "    <tr>\n",
              "      <th>9273</th>\n",
              "      <td>Jaket</td>\n",
              "      <td>2016-03-10 13:26:03.012</td>\n",
              "      <td>2019-02-01 23:57:57.286</td>\n",
              "      <td>1018913</td>\n",
              "      <td>65</td>\n",
              "      <td>True</td>\n",
              "    </tr>\n",
              "  </tbody>\n",
              "</table>\n",
              "<p>100000 rows × 6 columns</p>\n",
              "</div>\n",
              "      <button class=\"colab-df-convert\" onclick=\"convertToInteractive('df-3f444956-d021-4072-bfd9-892fa551a266')\"\n",
              "              title=\"Convert this dataframe to an interactive table.\"\n",
              "              style=\"display:none;\">\n",
              "        \n",
              "  <svg xmlns=\"http://www.w3.org/2000/svg\" height=\"24px\"viewBox=\"0 0 24 24\"\n",
              "       width=\"24px\">\n",
              "    <path d=\"M0 0h24v24H0V0z\" fill=\"none\"/>\n",
              "    <path d=\"M18.56 5.44l.94 2.06.94-2.06 2.06-.94-2.06-.94-.94-2.06-.94 2.06-2.06.94zm-11 1L8.5 8.5l.94-2.06 2.06-.94-2.06-.94L8.5 2.5l-.94 2.06-2.06.94zm10 10l.94 2.06.94-2.06 2.06-.94-2.06-.94-.94-2.06-.94 2.06-2.06.94z\"/><path d=\"M17.41 7.96l-1.37-1.37c-.4-.4-.92-.59-1.43-.59-.52 0-1.04.2-1.43.59L10.3 9.45l-7.72 7.72c-.78.78-.78 2.05 0 2.83L4 21.41c.39.39.9.59 1.41.59.51 0 1.02-.2 1.41-.59l7.78-7.78 2.81-2.81c.8-.78.8-2.07 0-2.86zM5.41 20L4 18.59l7.72-7.72 1.47 1.35L5.41 20z\"/>\n",
              "  </svg>\n",
              "      </button>\n",
              "      \n",
              "  <style>\n",
              "    .colab-df-container {\n",
              "      display:flex;\n",
              "      flex-wrap:wrap;\n",
              "      gap: 12px;\n",
              "    }\n",
              "\n",
              "    .colab-df-convert {\n",
              "      background-color: #E8F0FE;\n",
              "      border: none;\n",
              "      border-radius: 50%;\n",
              "      cursor: pointer;\n",
              "      display: none;\n",
              "      fill: #1967D2;\n",
              "      height: 32px;\n",
              "      padding: 0 0 0 0;\n",
              "      width: 32px;\n",
              "    }\n",
              "\n",
              "    .colab-df-convert:hover {\n",
              "      background-color: #E2EBFA;\n",
              "      box-shadow: 0px 1px 2px rgba(60, 64, 67, 0.3), 0px 1px 3px 1px rgba(60, 64, 67, 0.15);\n",
              "      fill: #174EA6;\n",
              "    }\n",
              "\n",
              "    [theme=dark] .colab-df-convert {\n",
              "      background-color: #3B4455;\n",
              "      fill: #D2E3FC;\n",
              "    }\n",
              "\n",
              "    [theme=dark] .colab-df-convert:hover {\n",
              "      background-color: #434B5C;\n",
              "      box-shadow: 0px 1px 3px 1px rgba(0, 0, 0, 0.15);\n",
              "      filter: drop-shadow(0px 1px 2px rgba(0, 0, 0, 0.3));\n",
              "      fill: #FFFFFF;\n",
              "    }\n",
              "  </style>\n",
              "\n",
              "      <script>\n",
              "        const buttonEl =\n",
              "          document.querySelector('#df-3f444956-d021-4072-bfd9-892fa551a266 button.colab-df-convert');\n",
              "        buttonEl.style.display =\n",
              "          google.colab.kernel.accessAllowed ? 'block' : 'none';\n",
              "\n",
              "        async function convertToInteractive(key) {\n",
              "          const element = document.querySelector('#df-3f444956-d021-4072-bfd9-892fa551a266');\n",
              "          const dataTable =\n",
              "            await google.colab.kernel.invokeFunction('convertToInteractive',\n",
              "                                                     [key], {});\n",
              "          if (!dataTable) return;\n",
              "\n",
              "          const docLinkHtml = 'Like what you see? Visit the ' +\n",
              "            '<a target=\"_blank\" href=https://colab.research.google.com/notebooks/data_table.ipynb>data table notebook</a>'\n",
              "            + ' to learn more about interactive tables.';\n",
              "          element.innerHTML = '';\n",
              "          dataTable['output_type'] = 'display_data';\n",
              "          await google.colab.output.renderOutput(dataTable, element);\n",
              "          const docLink = document.createElement('div');\n",
              "          docLink.innerHTML = docLinkHtml;\n",
              "          element.appendChild(docLink);\n",
              "        }\n",
              "      </script>\n",
              "    </div>\n",
              "  </div>\n",
              "  "
            ]
          },
          "metadata": {},
          "execution_count": 30
        }
      ]
    },
    {
      "cell_type": "markdown",
      "source": [
        "**EDA**"
      ],
      "metadata": {
        "id": "AB31Oncbhw1P"
      }
    },
    {
      "cell_type": "code",
      "source": [
        "import numpy as np\n",
        "\n",
        "# Separating Categorical and Numerical Data for Easy Analysis\n",
        "cat_cols = df.select_dtypes(include=['object']).columns\n",
        "num_cols = df.select_dtypes(include=np.number).columns.tolist()\n",
        "\n",
        "print('Categorical Variables: ', cat_cols)\n",
        "print('Numerical Variables: ', num_cols)"
      ],
      "metadata": {
        "id": "ua1jibxty-9I",
        "colab": {
          "base_uri": "https://localhost:8080/"
        },
        "outputId": "f8930b8d-ba3b-4264-fdf4-786fd3e21c0e"
      },
      "execution_count": null,
      "outputs": [
        {
          "output_type": "stream",
          "name": "stdout",
          "text": [
            "Categorical Variables:  Index(['Product'], dtype='object')\n",
            "Numerical Variables:  ['Average_Transaction_Amount', 'Count_Transaction']\n"
          ]
        }
      ]
    },
    {
      "cell_type": "code",
      "source": [
        "import matplotlib.pyplot as plt\n",
        "# Pie Chart for Categorical Data\n",
        "\n",
        "labels = ['Churn', 'No Churn']\n",
        "size = df['Churn'].value_counts()\n",
        "colors = ['lightgreen', 'orange']\n",
        "explode = [0, 0.1]\n",
        "plt.pie(size, colors = colors, explode = explode, labels = labels, shadow = True, autopct = '%.2f%%')\n",
        "plt.title('Churn')\n",
        "plt.axis('off')\n",
        "plt.legend()\n",
        "plt.show()"
      ],
      "metadata": {
        "id": "efek2hlYg2fB",
        "colab": {
          "base_uri": "https://localhost:8080/",
          "height": 264
        },
        "outputId": "a12fdab0-6819-4f0f-d494-cec980da93e2"
      },
      "execution_count": null,
      "outputs": [
        {
          "output_type": "display_data",
          "data": {
            "text/plain": [
              "<Figure size 432x288 with 1 Axes>"
            ],
            "image/png": "[encoded data removed]"
          },
          "metadata": {}
        }
      ]
    },
    {
      "cell_type": "code",
      "source": [
        "labels = ['Jaket', 'Sepatu', 'Tas', 'Baju']\n",
        "size = df['Product'].value_counts()\n",
        "colors = ['lightgreen', 'orange', 'blue', 'red']\n",
        "explode = [0, 0.1, 0.1, 0.1]\n",
        "plt.pie(size, colors = colors, explode = explode, labels = labels, shadow = True, autopct = '%.2f%%')\n",
        "plt.title('Product')\n",
        "plt.axis('off')\n",
        "plt.legend()\n",
        "plt.show()"
      ],
      "metadata": {
        "id": "1e4uMyhQvDrP",
        "colab": {
          "base_uri": "https://localhost:8080/",
          "height": 264
        },
        "outputId": "c117f072-b6f8-4ea1-a8c7-433d0dd4d91e"
      },
      "execution_count": null,
      "outputs": [
        {
          "output_type": "display_data",
          "data": {
            "text/plain": [
              "<Figure size 432x288 with 1 Axes>"
            ],
            "image/png": "[encoded data removed]"
          },
          "metadata": {}
        }
      ]
    },
    {
      "cell_type": "code",
      "source": [
        "import seaborn as sns\n",
        "\n",
        "# Histogram and Box Plot for Numerical Data\n",
        "for col in num_cols:\n",
        "    print(col)\n",
        "    print('Skew :', round(df[col].skew(), 2))\n",
        "    plt.figure(figsize = (15, 4))\n",
        "    plt.subplot(1, 2, 1)\n",
        "    df[col].hist(grid=False)\n",
        "    plt.ylabel('count')\n",
        "    plt.subplot(1, 2, 2)\n",
        "    sns.boxplot(x=df[col])\n",
        "    plt.show()"
      ],
      "metadata": {
        "id": "744po17Nw0K7",
        "colab": {
          "base_uri": "https://localhost:8080/",
          "height": 615
        },
        "outputId": "7cf65bd1-521a-4199-972e-79e7d9041b34"
      },
      "execution_count": null,
      "outputs": [
        {
          "output_type": "stream",
          "name": "stdout",
          "text": [
            "Average_Transaction_Amount\n",
            "Skew : 4.24\n"
          ]
        },
        {
          "output_type": "display_data",
          "data": {
            "text/plain": [
              "<Figure size 1080x288 with 2 Axes>"
            ],
            "image/png": "[encoded data removed]"
          },
          "metadata": {
            "needs_background": "light"
          }
        },
        {
          "output_type": "stream",
          "name": "stdout",
          "text": [
            "Count_Transaction\n",
            "Skew : 33.91\n"
          ]
        },
        {
          "output_type": "display_data",
          "data": {
            "text/plain": [
              "<Figure size 1080x288 with 2 Axes>"
            ],
            "image/png": "[encoded data removed]"
          },
          "metadata": {
            "needs_background": "light"
          }
        }
      ]
    },
    {
      "cell_type": "code",
      "source": [
        "sns.countplot(x='Churn', data=df)\n",
        "print(df['Churn'].value_counts())"
      ],
      "metadata": {
        "id": "nQdaLpz4zJzj",
        "colab": {
          "base_uri": "https://localhost:8080/",
          "height": 335
        },
        "outputId": "281c1a7b-a9ab-4810-f6d5-0b223b3057ab"
      },
      "execution_count": null,
      "outputs": [
        {
          "output_type": "stream",
          "name": "stdout",
          "text": [
            "False    66701\n",
            "True     33299\n",
            "Name: Churn, dtype: int64\n"
          ]
        },
        {
          "output_type": "display_data",
          "data": {
            "text/plain": [
              "<Figure size 432x288 with 1 Axes>"
            ],
            "image/png": "[encoded data removed]"
          },
          "metadata": {
            "needs_background": "light"
          }
        }
      ]
    },
    {
      "cell_type": "code",
      "source": [
        "fig, axes = plt.subplots(1, 2, figsize=(13, 5))\n",
        "df.groupby('Product')['Average_Transaction_Amount'].mean().sort_values(ascending=False).plot.bar(ax=axes[0], fontsize=12)\n",
        "axes[0].set_title(\"Product vs Average Transaction Amount\", fontsize=18)\n",
        "df.groupby('Product')['Count_Transaction'].mean().sort_values(ascending=False).plot.bar(ax=axes[1], fontsize=12)\n",
        "axes[1].set_title(\"Product vs Count Transaction\", fontsize=18)\n",
        "plt.subplots_adjust(hspace=1.0)\n",
        "plt.subplots_adjust(wspace=.5)\n",
        "sns.despine()"
      ],
      "metadata": {
        "id": "yHfegJcmzsW3",
        "colab": {
          "base_uri": "https://localhost:8080/",
          "height": 386
        },
        "outputId": "e795aa0a-3a27-4621-cfb3-30c64cc7a73b"
      },
      "execution_count": null,
      "outputs": [
        {
          "output_type": "display_data",
          "data": {
            "text/plain": [
              "<Figure size 936x360 with 2 Axes>"
            ],
            "image/png": "[encoded data removed]"
          },
          "metadata": {
            "needs_background": "light"
          }
        }
      ]
    },
    {
      "cell_type": "markdown",
      "source": [
        "**Data Preprocessing**"
      ],
      "metadata": {
        "id": "QlIDdnU32G04"
      }
    },
    {
      "cell_type": "code",
      "source": [
        "# To See If There Are Missing or Duplicated Values in A Column\n",
        "missing_data = df.isnull().sum()\n",
        "duplicate_data = df.duplicated().sum()\n",
        "\n",
        "print(missing_data)\n",
        "print(duplicate_data)"
      ],
      "metadata": {
        "id": "N9UR1xi12IpL",
        "colab": {
          "base_uri": "https://localhost:8080/"
        },
        "outputId": "fd661b65-fc79-4f86-efb2-4846bf749508"
      },
      "execution_count": null,
      "outputs": [
        {
          "output_type": "stream",
          "name": "stdout",
          "text": [
            "Product                       0\n",
            "First_Transaction             0\n",
            "Last_Transaction              0\n",
            "Average_Transaction_Amount    0\n",
            "Count_Transaction             0\n",
            "Churn                         0\n",
            "dtype: int64\n",
            "69\n"
          ]
        }
      ]
    },
    {
      "cell_type": "markdown",
      "source": [
        "**Model Exploration**"
      ],
      "metadata": {
        "id": "c2BnjuFE2XHq"
      }
    },
    {
      "cell_type": "code",
      "source": [
        "from sklearn.linear_model import LogisticRegression\n",
        "from sklearn.model_selection import train_test_split\n",
        "from sklearn.preprocessing import LabelEncoder\n",
        "\n",
        "for column in df.columns :\n",
        "  if df[column].dtype == np.number: continue\n",
        "  df[column] = LabelEncoder().fit_transform(df[column])\n",
        "\n",
        "x = df.drop('Churn', axis=1)\n",
        "y = df['Churn']\n",
        "x_train, x_test, y_train, y_test = train_test_split(x, y, test_size=0.2, random_state=42)\n",
        "\n",
        "model = LogisticRegression().fit(x_train, y_train)"
      ],
      "metadata": {
        "id": "rFIN-rWx2c5D",
        "colab": {
          "base_uri": "https://localhost:8080/"
        },
        "outputId": "951d4ca7-f43d-4c61-ad67-3a693722a582"
      },
      "execution_count": null,
      "outputs": [
        {
          "output_type": "stream",
          "name": "stderr",
          "text": [
            "<ipython-input-38-0fcf1ed269f7>:6: DeprecationWarning: Converting `np.inexact` or `np.floating` to a dtype is deprecated. The current result is `float64` which is not strictly correct.\n",
            "  if df[column].dtype == np.number: continue\n"
          ]
        }
      ]
    },
    {
      "cell_type": "code",
      "source": [
        "from sklearn.metrics import classification_report\n",
        "\n",
        "y_train_pred = model.predict(x_train)\n",
        "\n",
        "print('Classification Report:\\n')\n",
        "print(classification_report(y_train, y_train_pred))"
      ],
      "metadata": {
        "id": "KhOX4vUb68dG",
        "colab": {
          "base_uri": "https://localhost:8080/"
        },
        "outputId": "72846c23-b35f-463b-c48a-5098cfeac4d3"
      },
      "execution_count": null,
      "outputs": [
        {
          "output_type": "stream",
          "name": "stdout",
          "text": [
            "Classification Report:\n",
            "\n",
            "              precision    recall  f1-score   support\n",
            "\n",
            "           0       0.89      0.88      0.89     53419\n",
            "           1       0.77      0.79      0.78     26581\n",
            "\n",
            "    accuracy                           0.85     80000\n",
            "   macro avg       0.83      0.84      0.83     80000\n",
            "weighted avg       0.85      0.85      0.85     80000\n",
            "\n"
          ]
        }
      ]
    },
    {
      "cell_type": "code",
      "source": [
        "from sklearn.metrics import confusion_matrix\n",
        "\n",
        "confusion_matrix(y_train, y_train_pred)"
      ],
      "metadata": {
        "id": "XMX0nuBT-rH9",
        "colab": {
          "base_uri": "https://localhost:8080/"
        },
        "outputId": "5cd88bf8-b96e-49b6-d951-2466a741fdba"
      },
      "execution_count": null,
      "outputs": [
        {
          "output_type": "execute_result",
          "data": {
            "text/plain": [
              "array([[47119,  6300],\n",
              "       [ 5634, 20947]])"
            ]
          },
          "metadata": {},
          "execution_count": 40
        }
      ]
    },
    {
      "cell_type": "code",
      "source": [
        "from sklearn.ensemble import RandomForestClassifier\n",
        "rdf_model = RandomForestClassifier().fit(x_train, y_train)\n",
        "\n",
        "y_train_pred = rdf_model.predict(x_train)\n",
        "\n",
        "print('Classification Report:\\n')\n",
        "print(classification_report(y_train, y_train_pred))\n",
        "\n",
        "confusion_matrix(y_train, y_train_pred)"
      ],
      "metadata": {
        "id": "LEQ3vmSz_CxR",
        "colab": {
          "base_uri": "https://localhost:8080/"
        },
        "outputId": "b6b7b1bf-7f4c-4243-d5ef-d2896b9b5ac2"
      },
      "execution_count": null,
      "outputs": [
        {
          "output_type": "stream",
          "name": "stdout",
          "text": [
            "Classification Report:\n",
            "\n",
            "              precision    recall  f1-score   support\n",
            "\n",
            "           0       1.00      1.00      1.00     53419\n",
            "           1       1.00      1.00      1.00     26581\n",
            "\n",
            "    accuracy                           1.00     80000\n",
            "   macro avg       1.00      1.00      1.00     80000\n",
            "weighted avg       1.00      1.00      1.00     80000\n",
            "\n"
          ]
        },
        {
          "output_type": "execute_result",
          "data": {
            "text/plain": [
              "array([[53419,     0],\n",
              "       [    0, 26581]])"
            ]
          },
          "metadata": {},
          "execution_count": 41
        }
      ]
    },
    {
      "cell_type": "code",
      "source": [
        "from sklearn.ensemble import GradientBoostingClassifier\n",
        "grb_model = GradientBoostingClassifier().fit(x_train, y_train)\n",
        "\n",
        "y_train_pred = grb_model.predict(x_train)\n",
        "\n",
        "print('Classification Report:\\n')\n",
        "print(classification_report(y_train, y_train_pred))\n",
        "\n",
        "confusion_matrix(y_train, y_train_pred)"
      ],
      "metadata": {
        "id": "1ENUq0SY_sa8",
        "colab": {
          "base_uri": "https://localhost:8080/"
        },
        "outputId": "54c8d72e-4155-446e-b8e3-b6b6809cabff"
      },
      "execution_count": null,
      "outputs": [
        {
          "output_type": "stream",
          "name": "stdout",
          "text": [
            "Classification Report:\n",
            "\n",
            "              precision    recall  f1-score   support\n",
            "\n",
            "           0       1.00      1.00      1.00     53419\n",
            "           1       1.00      1.00      1.00     26581\n",
            "\n",
            "    accuracy                           1.00     80000\n",
            "   macro avg       1.00      1.00      1.00     80000\n",
            "weighted avg       1.00      1.00      1.00     80000\n",
            "\n"
          ]
        },
        {
          "output_type": "execute_result",
          "data": {
            "text/plain": [
              "array([[53419,     0],\n",
              "       [    0, 26581]])"
            ]
          },
          "metadata": {},
          "execution_count": 42
        }
      ]
    }
  ]
}